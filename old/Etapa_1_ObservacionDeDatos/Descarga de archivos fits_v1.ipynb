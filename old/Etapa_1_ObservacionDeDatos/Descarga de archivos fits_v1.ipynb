{
 "cells": [
  {
   "cell_type": "markdown",
   "metadata": {},
   "source": [
    "Copia de resguardo:\n",
    "Código para descargar archivos fits \n",
    "fuente: sedici"
   ]
  },
  {
   "cell_type": "code",
   "execution_count": 1,
   "metadata": {},
   "outputs": [
    {
     "name": "stdout",
     "output_type": "stream",
     "text": [
      "Descargando el archivo: Placa espectrográfica identificada como A4762 de la fuente astronómica HD 166734.fits\n",
      "del link: http://sedici.unlp.edu.ar/bitstream/handle/10915/74971/Placa_espectrográfica_digitalizada.fits?sequence=1&isAllowed=y\n",
      "\n",
      "Descargando el archivo: Placa espectrográfica identificada como C4757 de la fuente astronómica theta OriC.fits\n",
      "del link: http://sedici.unlp.edu.ar/bitstream/handle/10915/86621/.fits?sequence=1&isAllowed=y\n",
      "\n",
      "Descargando el archivo: Placa espectrográfica identificada como C4857 de la fuente astronómica HD 168206.fits\n",
      "del link: http://sedici.unlp.edu.ar/bitstream/handle/10915/86606/.fits?sequence=1&isAllowed=y\n",
      "\n",
      "Descargando el archivo: Placa espectrográfica identificada como C4741 de la fuente astronómica HD 63099.fits\n",
      "del link: http://sedici.unlp.edu.ar/bitstream/handle/10915/86623/.fits?sequence=1&isAllowed=y\n",
      "\n",
      "Descargando el archivo: Placa espectrográfica identificada como C4736 de la fuente astronómica NGC 1360.fits\n",
      "del link: http://sedici.unlp.edu.ar/bitstream/handle/10915/86600/.fits?sequence=1&isAllowed=y\n",
      "\n",
      "Descargando el archivo: Placa espectrográfica identificada como C4736 de la fuente astronómica NGC 2346.fits\n",
      "del link: http://sedici.unlp.edu.ar/bitstream/handle/10915/86599/.fits?sequence=1&isAllowed=y\n",
      "\n",
      "Descargando el archivo: Placa espectrográfica identificada como C3267 de la fuente astronómica NGC 246.fits\n",
      "del link: http://sedici.unlp.edu.ar/bitstream/handle/10915/86604/.fits?sequence=1&isAllowed=y\n",
      "\n",
      "Descargando el archivo: Placa espectrográfica identificada como C3269 de la fuente astronómica HD 693.fits\n",
      "del link: http://sedici.unlp.edu.ar/bitstream/handle/10915/86602/.fits?sequence=1&isAllowed=y\n",
      "\n",
      "Descargando el archivo: Placa espectrográfica identificada como C3267 de la fuente astronómica 29 Psc.fits\n",
      "del link: http://sedici.unlp.edu.ar/bitstream/handle/10915/86605/.fits?sequence=1&isAllowed=y\n",
      "\n"
     ]
    }
   ],
   "source": [
    "from bs4 import BeautifulSoup as bs\n",
    "import requests\n",
    "\n",
    "DOMAIN = 'http://sedici.unlp.edu.ar' #Dominio\n",
    "#URL donde estan todas las imagenes, puse rpp=300 para que ponga todos los links en una pagina\n",
    "#para la prueba-> tamaño de la muestra: 10#\n",
    "URL = 'http://sedici.unlp.edu.ar/handle/10915/74499/discover?search-result=true&query=&current-scope=10915/74499&sort_by=score&order=desc&rpp=10' \n",
    "FILETYPE = '.fits' #tipo de archivos que voy a buscar\n",
    "SUB_LINKS_ARRAY = [] #arreglo de sublinks (guarda solo los que dicen 'handle')\n",
    "file_name = ''\n",
    "\n",
    "def get_soup(url): #devuele el HTML parseado de la url pasada como parametro\n",
    "    return bs(requests.get(url).text, 'html.parser')\n",
    "\n",
    "for link in get_soup(URL).find_all('a'): #busco todo lo que tenga 'a'\n",
    "    sub_link = link.get('href') #me guardo cada sublink al que debo entrar(donde esta el link de cada archivo)\n",
    "    if 'handle' in sub_link:\n",
    "        SUB_LINKS_ARRAY.append(sub_link) #me guardo los sublinks en un arreglo\n",
    "\n",
    "length = len(SUB_LINKS_ARRAY) #obtengo la longitud del arreglo de sub links\n",
    "\n",
    "for i in range(length):  #para cada sub link vuelvo a hacer lo mismo\n",
    "    \n",
    "    soup = get_soup(DOMAIN+SUB_LINKS_ARRAY[i]) #obtengo el HTML parseado\n",
    "    for sub_link2 in soup.find_all('a'): #busco todo lo que tenga 'a'\n",
    "        file_link = sub_link2.get('href') #me guardo el link del archivo .fits\n",
    "        if FILETYPE in file_link: # si el tipo de archivo(.fits) esta en el link\n",
    "            if ((soup.title.string + \".fits\") == file_name): #para que no descargue duplicado\n",
    "                continue\n",
    "            else:\n",
    "                file_name = soup.title.string + \".fits\"  #le asigno como nombre al archivo el titulo + .fits\n",
    "                print('Descargando el archivo: ' + file_name + '\\n' +'del link: ' + DOMAIN+file_link + '\\n') #imprimo que lo voy a descargar\n",
    "                with open(file_name, 'wb') as file:\n",
    "                    response = requests.get(DOMAIN + file_link) #descargo el archivo\n",
    "                    file.write(response.content) "
   ]
  },
  {
   "cell_type": "code",
   "execution_count": null,
   "metadata": {},
   "outputs": [],
   "source": []
  }
 ],
 "metadata": {
  "kernelspec": {
   "display_name": "Python 3",
   "language": "python",
   "name": "python3"
  },
  "language_info": {
   "codemirror_mode": {
    "name": "ipython",
    "version": 3
   },
   "file_extension": ".py",
   "mimetype": "text/x-python",
   "name": "python",
   "nbconvert_exporter": "python",
   "pygments_lexer": "ipython3",
   "version": "3.7.3"
  }
 },
 "nbformat": 4,
 "nbformat_minor": 2
}
